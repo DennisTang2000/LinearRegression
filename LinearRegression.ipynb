{
 "cells": [
  {
   "cell_type": "markdown",
   "metadata": {},
   "source": [
    "Import Libraries"
   ]
  },
  {
   "cell_type": "code",
   "execution_count": 41,
   "metadata": {},
   "outputs": [],
   "source": [
    "import matplotlib.image as mpimg \n",
    "from PIL import Image\n",
    "import matplotlib.pyplot as plt\n",
    "import numpy as np\n",
    "\n",
    "\n",
    "\n",
    "\n",
    "training_images = np.zeros((87,576,432,3))\n",
    "test_set_images = np.zeros((23,576,432,3))\n",
    "train_set_labels = np.array([[0, 0, 0, 0, 0, 0, 0, 0, 0, 0, 0, 0, 0, 0, 0, 0, 0, 0, 0, 0, 0, 0, 1, 1, 1, 1, 1, 1, 1, 1, 1, 1, 1, 1, 1, 1, 1, 1, 1, 1, 1, 1, 1, 1, 1, 1, 1, 1, 1, 1, 1, 0, 0, 0, 0, 0, 0, 0, 0, 0, 0, 0, 0, 0, 0, 0, 0, 0, 1, 1, 1, 1, 1, 1, 1, 1, 1, 1, 1, 1, 1, 1, 1, 1, 1, 1, 1]])\n",
    "test_set_labels = np.array([[0,0,1,1,1,1,1,1,1,1,0,0,0,0,1,1,1,1,1,0,0,0,0]]) \n",
    "\n",
    "\n",
    "tempstr = \"\"\n",
    "for i in range(0,87):\n",
    "    tempstr = \"Training/\" + str(i+1) + \".jpeg\"\n",
    "    image = mpimg.imread(tempstr)\n",
    "    training_images[i] = image\n",
    "    \n",
    "for i in range(1, 24):\n",
    "    tempstr = \"Test/\" + str(i+1) + \".jpeg\"\n",
    "    image = mpimg.imread(tempstr)\n",
    "    test_set_images[i - 1] = image\n",
    "    "
   ]
  },
  {
   "cell_type": "code",
   "execution_count": 42,
   "metadata": {},
   "outputs": [
    {
     "name": "stdout",
     "output_type": "stream",
     "text": [
      "87\n",
      "(87, 576, 432, 3)\n",
      "23\n",
      "(23, 576, 432, 3)\n"
     ]
    }
   ],
   "source": [
    "print(len(training_images))\n",
    "print(training_images.shape)\n",
    "print(len(test_set_images))\n",
    "print(test_set_images.shape)"
   ]
  },
  {
   "cell_type": "code",
   "execution_count": 43,
   "metadata": {},
   "outputs": [
    {
     "name": "stdout",
     "output_type": "stream",
     "text": [
      "done1\n",
      "(746496, 87)\n",
      "(1, 87)\n",
      "(746496, 23)\n",
      "(1, 23)\n"
     ]
    }
   ],
   "source": [
    "train_set_flatten = training_images.reshape(training_images.shape[0], -1).T\n",
    "test_set_flatten = test_set_images.reshape(test_set_images.shape[0], -1).T\n",
    "train_set = train_set_flatten/255\n",
    "\n",
    "print(\"done1\")\n",
    "test_set = test_set_flatten/255\n",
    "\n",
    "print(train_set_flatten.shape)\n",
    "print(train_set_labels.shape)\n",
    "print(test_set_flatten.shape)\n",
    "print(test_set_labels.shape)"
   ]
  },
  {
   "cell_type": "code",
   "execution_count": 44,
   "metadata": {},
   "outputs": [
    {
     "name": "stdout",
     "output_type": "stream",
     "text": [
      "start\n",
      "done with 0 iterations\n",
      "done with 100 iterations\n",
      "done with 200 iterations\n",
      "done with 300 iterations\n",
      "done with 400 iterations\n",
      "done with 500 iterations\n",
      "done with 600 iterations\n",
      "done with 700 iterations\n",
      "done with 800 iterations\n",
      "done with 900 iterations\n",
      "done with 1000 iterations\n",
      "done with 1100 iterations\n",
      "done with 1200 iterations\n",
      "done with 1300 iterations\n",
      "done with 1400 iterations\n",
      "done with 1500 iterations\n",
      "done with 1600 iterations\n",
      "done with 1700 iterations\n",
      "done with 1800 iterations\n",
      "done with 1900 iterations\n",
      "done with 2000 iterations\n",
      "done with 2100 iterations\n",
      "done with 2200 iterations\n",
      "done with 2300 iterations\n",
      "done with 2400 iterations\n",
      "done with 2500 iterations\n",
      "done with 2600 iterations\n",
      "done with 2700 iterations\n",
      "done with 2800 iterations\n",
      "done with 2900 iterations\n",
      "test accuracy: 73.91304347826087 %\n",
      "done\n"
     ]
    }
   ],
   "source": [
    "def sigmoid(x):\n",
    "    return 1/(1 + np.exp(-1*x))\n",
    "\n",
    "def initialize(s):\n",
    "    w = np.zeros((s,1))\n",
    "    b = 0\n",
    "    return w, b\n",
    "\n",
    "def prop(w, b, X, Y):\n",
    "    m = X.shape[1] #number of elements\n",
    "    z = sigmoid(np.dot(w.T, X) + b)\n",
    "    A = sigmoid(z)\n",
    "    dw = 1/m*np.dot(X, (A-Y).T)\n",
    "    db = 1/m*np.sum(A - Y)\n",
    "    return dw, db\n",
    "    \n",
    "def optimize(w,b,X,Y, its, alpha):\n",
    "    for i in range(its):\n",
    "        dw, db= prop(w,b,X,Y)\n",
    "        w = w - alpha*dw\n",
    "        b = b - alpha*db\n",
    "        if(i % 100 == 0):\n",
    "            print(\"done with \" + str(i) + \" iterations\")\n",
    "    return w,b, dw, db\n",
    "\n",
    "def predict(w,b, X):\n",
    "    m = X.shape[1]\n",
    "    predictions = np.zeros((1,m))\n",
    "\n",
    "    w = w.reshape(X.shape[0], 1)\n",
    "    \n",
    "    A = sigmoid(np.dot(w.T,X) + b)\n",
    "    \n",
    "    for i in range(A.shape[1]):\n",
    "        if(A[0,i] > 0.75):\n",
    "            predictions[0, i] = 1\n",
    "        else:\n",
    "            predictions[0, i] = 0\n",
    "    return predictions\n",
    "    \n",
    "        \n",
    "    \n",
    "def model(train, train_labels, test, test_labels, iterations, alpha):\n",
    "    w, b = initialize(train.shape[0])\n",
    "    w,b, dw, db = optimize(w,b,train, train_labels, iterations, alpha)\n",
    "    \n",
    "    prediction_test = predict(w, b, test)\n",
    "    \n",
    "    print(\"test accuracy: {} %\".format(100 - np.mean(np.abs(prediction_test - test_set_labels)) * 100))\n",
    "\n",
    "print(\"start\")\n",
    "model(train_set, train_set_labels, test_set, test_set_labels, 3000, 0.01 )\n",
    "print(\"done\")\n",
    "    "
   ]
  },
  {
   "cell_type": "code",
   "execution_count": null,
   "metadata": {},
   "outputs": [],
   "source": []
  },
  {
   "cell_type": "code",
   "execution_count": 31,
   "metadata": {},
   "outputs": [
    {
     "name": "stdout",
     "output_type": "stream",
     "text": [
      "[1, 1, 1, 1, 1, 1, 1, 1, 1, 1, 1, 1, 1, 1, 1, 1, 1, 1, 1]\n"
     ]
    }
   ],
   "source": [
    "y = [1 for i in range(19)]\n",
    "print(y)"
   ]
  },
  {
   "cell_type": "code",
   "execution_count": null,
   "metadata": {},
   "outputs": [],
   "source": []
  }
 ],
 "metadata": {
  "kernelspec": {
   "display_name": "Python 3",
   "language": "python",
   "name": "python3"
  },
  "language_info": {
   "codemirror_mode": {
    "name": "ipython",
    "version": 3
   },
   "file_extension": ".py",
   "mimetype": "text/x-python",
   "name": "python",
   "nbconvert_exporter": "python",
   "pygments_lexer": "ipython3",
   "version": "3.7.3"
  }
 },
 "nbformat": 4,
 "nbformat_minor": 2
}
